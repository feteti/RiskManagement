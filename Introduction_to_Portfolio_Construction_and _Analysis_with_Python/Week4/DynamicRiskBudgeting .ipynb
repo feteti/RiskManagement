{
 "cells": [
  {
   "cell_type": "code",
   "execution_count": 9,
   "metadata": {},
   "outputs": [
    {
     "name": "stdout",
     "output_type": "stream",
     "text": [
      "The autoreload extension is already loaded. To reload it, use:\n",
      "  %reload_ext autoreload\n"
     ]
    },
    {
     "name": "stderr",
     "output_type": "stream",
     "text": [
      "C:\\Users\\fetet\\OneDrive\\Documentos\\Estudos\\RiskManagement\\Introduction_to_Portfolio_Construction_and _Analysis_with_Python\\Week4\\edhec_risk_kit.py:36: SyntaxWarning: \"is\" with a literal. Did you mean \"==\"?\n",
      "  if filetype is \"returns\":\n",
      "C:\\Users\\fetet\\OneDrive\\Documentos\\Estudos\\RiskManagement\\Introduction_to_Portfolio_Construction_and _Analysis_with_Python\\Week4\\edhec_risk_kit.py:39: SyntaxWarning: \"is\" with a literal. Did you mean \"==\"?\n",
      "  elif filetype is \"nfirms\":\n",
      "C:\\Users\\fetet\\OneDrive\\Documentos\\Estudos\\RiskManagement\\Introduction_to_Portfolio_Construction_and _Analysis_with_Python\\Week4\\edhec_risk_kit.py:42: SyntaxWarning: \"is\" with a literal. Did you mean \"==\"?\n",
      "  elif filetype is \"size\":\n"
     ]
    }
   ],
   "source": [
    "import numpy as np \n",
    "import pandas as pd \n",
    "import edhec_risk_kit as erk \n",
    "import matplotlib.pyplot as plt \n",
    "import seaborn as sns \n",
    "\n",
    "%matplotlib inline \n",
    "%load_ext autoreload \n",
    "%autoreload 2 "
   ]
  },
  {
   "cell_type": "code",
   "execution_count": 6,
   "metadata": {},
   "outputs": [],
   "source": [
    "n_scenarios = 5000\n",
    "rates, zc_prices = erk.cir(10, n_scenarios=n_scenarios,\n",
    "                          b=0.03, r_0=0.03, sigma=0.02)\n",
    "price_eq = erk.gbm(10, n_scenarios=n_scenarios, mu=0.07, sigma=0.15)"
   ]
  },
  {
   "cell_type": "code",
   "execution_count": 8,
   "metadata": {},
   "outputs": [
    {
     "data": {
      "text/html": [
       "<div>\n",
       "<style scoped>\n",
       "    .dataframe tbody tr th:only-of-type {\n",
       "        vertical-align: middle;\n",
       "    }\n",
       "\n",
       "    .dataframe tbody tr th {\n",
       "        vertical-align: top;\n",
       "    }\n",
       "\n",
       "    .dataframe thead th {\n",
       "        text-align: right;\n",
       "    }\n",
       "</style>\n",
       "<table border=\"1\" class=\"dataframe\">\n",
       "  <thead>\n",
       "    <tr style=\"text-align: right;\">\n",
       "      <th></th>\n",
       "      <th>ZC</th>\n",
       "      <th>Eq</th>\n",
       "      <th>70/30</th>\n",
       "    </tr>\n",
       "  </thead>\n",
       "  <tbody>\n",
       "    <tr>\n",
       "      <th>mean</th>\n",
       "      <td>1.34</td>\n",
       "      <td>1.98</td>\n",
       "      <td>1.76</td>\n",
       "    </tr>\n",
       "    <tr>\n",
       "      <th>std</th>\n",
       "      <td>0.00</td>\n",
       "      <td>1.02</td>\n",
       "      <td>0.61</td>\n",
       "    </tr>\n",
       "    <tr>\n",
       "      <th>p_breach</th>\n",
       "      <td>NaN</td>\n",
       "      <td>0.03</td>\n",
       "      <td>0.01</td>\n",
       "    </tr>\n",
       "    <tr>\n",
       "      <th>e_short</th>\n",
       "      <td>NaN</td>\n",
       "      <td>0.11</td>\n",
       "      <td>0.07</td>\n",
       "    </tr>\n",
       "    <tr>\n",
       "      <th>p_reach</th>\n",
       "      <td>NaN</td>\n",
       "      <td>NaN</td>\n",
       "      <td>NaN</td>\n",
       "    </tr>\n",
       "    <tr>\n",
       "      <th>e_surplus</th>\n",
       "      <td>NaN</td>\n",
       "      <td>NaN</td>\n",
       "      <td>NaN</td>\n",
       "    </tr>\n",
       "  </tbody>\n",
       "</table>\n",
       "</div>"
      ],
      "text/plain": [
       "             ZC    Eq  70/30\n",
       "mean       1.34  1.98   1.76\n",
       "std        0.00  1.02   0.61\n",
       "p_breach    NaN  0.03   0.01\n",
       "e_short     NaN  0.11   0.07\n",
       "p_reach     NaN   NaN    NaN\n",
       "e_surplus   NaN   NaN    NaN"
      ]
     },
     "execution_count": 8,
     "metadata": {},
     "output_type": "execute_result"
    }
   ],
   "source": [
    "rets_eq = price_eq.pct_change().dropna()\n",
    "rets_zc = zc_prices.pct_change().dropna()\n",
    "rets_7030b = erk.bt_mix(rets_eq, rets_zc, allocator=erk.fixedmix_allocator,\n",
    "                       w1 =0.7)\n",
    "pd.concat([erk.terminal_stats(rets_zc, name=\"ZC\", floor=0.75),\n",
    "          erk.terminal_stats(rets_eq, name=\"Eq\", floor=0.75),\n",
    "          erk.terminal_stats(rets_7030b, name=\"70/30\",floor=0.75)], \n",
    "          axis=1).round(2)\n",
    "         "
   ]
  },
  {
   "cell_type": "code",
   "execution_count": 13,
   "metadata": {},
   "outputs": [
    {
     "data": {
      "text/html": [
       "<div>\n",
       "<style scoped>\n",
       "    .dataframe tbody tr th:only-of-type {\n",
       "        vertical-align: middle;\n",
       "    }\n",
       "\n",
       "    .dataframe tbody tr th {\n",
       "        vertical-align: top;\n",
       "    }\n",
       "\n",
       "    .dataframe thead th {\n",
       "        text-align: right;\n",
       "    }\n",
       "</style>\n",
       "<table border=\"1\" class=\"dataframe\">\n",
       "  <thead>\n",
       "    <tr style=\"text-align: right;\">\n",
       "      <th></th>\n",
       "      <th>ZC</th>\n",
       "      <th>Eq</th>\n",
       "      <th>70/30</th>\n",
       "      <th>Floor75</th>\n",
       "    </tr>\n",
       "  </thead>\n",
       "  <tbody>\n",
       "    <tr>\n",
       "      <th>mean</th>\n",
       "      <td>1.34</td>\n",
       "      <td>1.98</td>\n",
       "      <td>1.76</td>\n",
       "      <td>1.96</td>\n",
       "    </tr>\n",
       "    <tr>\n",
       "      <th>std</th>\n",
       "      <td>0.00</td>\n",
       "      <td>1.02</td>\n",
       "      <td>0.61</td>\n",
       "      <td>1.03</td>\n",
       "    </tr>\n",
       "    <tr>\n",
       "      <th>p_breach</th>\n",
       "      <td>NaN</td>\n",
       "      <td>0.03</td>\n",
       "      <td>0.01</td>\n",
       "      <td>NaN</td>\n",
       "    </tr>\n",
       "    <tr>\n",
       "      <th>e_short</th>\n",
       "      <td>NaN</td>\n",
       "      <td>0.11</td>\n",
       "      <td>0.07</td>\n",
       "      <td>NaN</td>\n",
       "    </tr>\n",
       "    <tr>\n",
       "      <th>p_reach</th>\n",
       "      <td>NaN</td>\n",
       "      <td>NaN</td>\n",
       "      <td>NaN</td>\n",
       "      <td>NaN</td>\n",
       "    </tr>\n",
       "    <tr>\n",
       "      <th>e_surplus</th>\n",
       "      <td>NaN</td>\n",
       "      <td>NaN</td>\n",
       "      <td>NaN</td>\n",
       "      <td>NaN</td>\n",
       "    </tr>\n",
       "  </tbody>\n",
       "</table>\n",
       "</div>"
      ],
      "text/plain": [
       "             ZC    Eq  70/30  Floor75\n",
       "mean       1.34  1.98   1.76     1.96\n",
       "std        0.00  1.02   0.61     1.03\n",
       "p_breach    NaN  0.03   0.01      NaN\n",
       "e_short     NaN  0.11   0.07      NaN\n",
       "p_reach     NaN   NaN    NaN      NaN\n",
       "e_surplus   NaN   NaN    NaN      NaN"
      ]
     },
     "execution_count": 13,
     "metadata": {},
     "output_type": "execute_result"
    }
   ],
   "source": [
    "rets_floor75 = erk.bt_mix(rets_eq, rets_zc, allocator=erk.floor_allocator,\n",
    "                          floor=.75, zc_prices=zc_prices[1:])\n",
    "pd.concat([erk.terminal_stats(rets_zc, name=\"ZC\", floor=0.75),\n",
    "          erk.terminal_stats(rets_eq, name=\"Eq\", floor=0.75),\n",
    "          erk.terminal_stats(rets_7030b, name=\"70/30\",floor=0.75),\n",
    "          erk.terminal_stats(rets_floor75, name=\"Floor75\", floor=0.75)], \n",
    "          axis=1).round(2)"
   ]
  },
  {
   "cell_type": "code",
   "execution_count": 19,
   "metadata": {},
   "outputs": [
    {
     "data": {
      "text/html": [
       "<div>\n",
       "<style scoped>\n",
       "    .dataframe tbody tr th:only-of-type {\n",
       "        vertical-align: middle;\n",
       "    }\n",
       "\n",
       "    .dataframe tbody tr th {\n",
       "        vertical-align: top;\n",
       "    }\n",
       "\n",
       "    .dataframe thead th {\n",
       "        text-align: right;\n",
       "    }\n",
       "</style>\n",
       "<table border=\"1\" class=\"dataframe\">\n",
       "  <thead>\n",
       "    <tr style=\"text-align: right;\">\n",
       "      <th></th>\n",
       "      <th>ZC</th>\n",
       "      <th>Eq</th>\n",
       "      <th>70/30</th>\n",
       "      <th>Floor75</th>\n",
       "      <th>Floor75m1</th>\n",
       "      <th>Floor75m5</th>\n",
       "    </tr>\n",
       "  </thead>\n",
       "  <tbody>\n",
       "    <tr>\n",
       "      <th>mean</th>\n",
       "      <td>1.3433</td>\n",
       "      <td>1.9822</td>\n",
       "      <td>1.7635</td>\n",
       "      <td>1.9578</td>\n",
       "      <td>1.6274</td>\n",
       "      <td>1.9672</td>\n",
       "    </tr>\n",
       "    <tr>\n",
       "      <th>std</th>\n",
       "      <td>0.0000</td>\n",
       "      <td>1.0195</td>\n",
       "      <td>0.6105</td>\n",
       "      <td>1.0266</td>\n",
       "      <td>0.4499</td>\n",
       "      <td>1.0288</td>\n",
       "    </tr>\n",
       "    <tr>\n",
       "      <th>p_breach</th>\n",
       "      <td>NaN</td>\n",
       "      <td>0.0338</td>\n",
       "      <td>0.0072</td>\n",
       "      <td>NaN</td>\n",
       "      <td>NaN</td>\n",
       "      <td>NaN</td>\n",
       "    </tr>\n",
       "    <tr>\n",
       "      <th>e_short</th>\n",
       "      <td>NaN</td>\n",
       "      <td>0.1125</td>\n",
       "      <td>0.0723</td>\n",
       "      <td>NaN</td>\n",
       "      <td>NaN</td>\n",
       "      <td>NaN</td>\n",
       "    </tr>\n",
       "    <tr>\n",
       "      <th>p_reach</th>\n",
       "      <td>NaN</td>\n",
       "      <td>NaN</td>\n",
       "      <td>NaN</td>\n",
       "      <td>NaN</td>\n",
       "      <td>NaN</td>\n",
       "      <td>NaN</td>\n",
       "    </tr>\n",
       "    <tr>\n",
       "      <th>e_surplus</th>\n",
       "      <td>NaN</td>\n",
       "      <td>NaN</td>\n",
       "      <td>NaN</td>\n",
       "      <td>NaN</td>\n",
       "      <td>NaN</td>\n",
       "      <td>NaN</td>\n",
       "    </tr>\n",
       "  </tbody>\n",
       "</table>\n",
       "</div>"
      ],
      "text/plain": [
       "               ZC      Eq   70/30  Floor75  Floor75m1  Floor75m5\n",
       "mean       1.3433  1.9822  1.7635   1.9578     1.6274     1.9672\n",
       "std        0.0000  1.0195  0.6105   1.0266     0.4499     1.0288\n",
       "p_breach      NaN  0.0338  0.0072      NaN        NaN        NaN\n",
       "e_short       NaN  0.1125  0.0723      NaN        NaN        NaN\n",
       "p_reach       NaN     NaN     NaN      NaN        NaN        NaN\n",
       "e_surplus     NaN     NaN     NaN      NaN        NaN        NaN"
      ]
     },
     "execution_count": 19,
     "metadata": {},
     "output_type": "execute_result"
    }
   ],
   "source": [
    "rets_floor75m1 = erk.bt_mix(rets_eq, rets_zc, allocator=erk.floor_allocator,\n",
    "                          floor=.75, zc_prices=zc_prices[1:], m=1)\n",
    "\n",
    "rets_floor75m5 = erk.bt_mix(rets_eq, rets_zc, allocator=erk.floor_allocator,\n",
    "                          floor=.75, zc_prices=zc_prices[1:], m=5)\n",
    "pd.concat([erk.terminal_stats(rets_zc, name=\"ZC\", floor=0.75),\n",
    "          erk.terminal_stats(rets_eq, name=\"Eq\", floor=0.75),\n",
    "          erk.terminal_stats(rets_7030b, name=\"70/30\",floor=0.75),\n",
    "          erk.terminal_stats(rets_floor75, name=\"Floor75\", floor=0.75),\n",
    "          erk.terminal_stats(rets_floor75m1, name=\"Floor75m1\", floor=0.75),\n",
    "           erk.terminal_stats(rets_floor75m5, name=\"Floor75m5\", floor=0.75)],\n",
    "          axis=1).round(4)"
   ]
  },
  {
   "cell_type": "markdown",
   "metadata": {},
   "source": [
    "# Risk Budgeting with Drawdown Constraints"
   ]
  },
  {
   "cell_type": "code",
   "execution_count": 26,
   "metadata": {},
   "outputs": [
    {
     "data": {
      "text/html": [
       "<div>\n",
       "<style scoped>\n",
       "    .dataframe tbody tr th:only-of-type {\n",
       "        vertical-align: middle;\n",
       "    }\n",
       "\n",
       "    .dataframe tbody tr th {\n",
       "        vertical-align: top;\n",
       "    }\n",
       "\n",
       "    .dataframe thead th {\n",
       "        text-align: right;\n",
       "    }\n",
       "</style>\n",
       "<table border=\"1\" class=\"dataframe\">\n",
       "  <thead>\n",
       "    <tr style=\"text-align: right;\">\n",
       "      <th></th>\n",
       "      <th>ZC</th>\n",
       "      <th>Eq</th>\n",
       "      <th>70/30</th>\n",
       "      <th>Floor75</th>\n",
       "      <th>Floor75m1</th>\n",
       "      <th>Floor75m5</th>\n",
       "      <th>dd25</th>\n",
       "    </tr>\n",
       "  </thead>\n",
       "  <tbody>\n",
       "    <tr>\n",
       "      <th>mean</th>\n",
       "      <td>1.3433</td>\n",
       "      <td>1.9822</td>\n",
       "      <td>1.7635</td>\n",
       "      <td>1.9578</td>\n",
       "      <td>1.6274</td>\n",
       "      <td>1.9672</td>\n",
       "      <td>1.6362</td>\n",
       "    </tr>\n",
       "    <tr>\n",
       "      <th>std</th>\n",
       "      <td>0.0000</td>\n",
       "      <td>1.0195</td>\n",
       "      <td>0.6105</td>\n",
       "      <td>1.0266</td>\n",
       "      <td>0.4499</td>\n",
       "      <td>1.0288</td>\n",
       "      <td>0.5590</td>\n",
       "    </tr>\n",
       "    <tr>\n",
       "      <th>p_breach</th>\n",
       "      <td>NaN</td>\n",
       "      <td>0.0338</td>\n",
       "      <td>0.0072</td>\n",
       "      <td>NaN</td>\n",
       "      <td>NaN</td>\n",
       "      <td>NaN</td>\n",
       "      <td>NaN</td>\n",
       "    </tr>\n",
       "    <tr>\n",
       "      <th>e_short</th>\n",
       "      <td>NaN</td>\n",
       "      <td>0.1125</td>\n",
       "      <td>0.0723</td>\n",
       "      <td>NaN</td>\n",
       "      <td>NaN</td>\n",
       "      <td>NaN</td>\n",
       "      <td>NaN</td>\n",
       "    </tr>\n",
       "    <tr>\n",
       "      <th>p_reach</th>\n",
       "      <td>NaN</td>\n",
       "      <td>NaN</td>\n",
       "      <td>NaN</td>\n",
       "      <td>NaN</td>\n",
       "      <td>NaN</td>\n",
       "      <td>NaN</td>\n",
       "      <td>NaN</td>\n",
       "    </tr>\n",
       "    <tr>\n",
       "      <th>e_surplus</th>\n",
       "      <td>NaN</td>\n",
       "      <td>NaN</td>\n",
       "      <td>NaN</td>\n",
       "      <td>NaN</td>\n",
       "      <td>NaN</td>\n",
       "      <td>NaN</td>\n",
       "      <td>NaN</td>\n",
       "    </tr>\n",
       "  </tbody>\n",
       "</table>\n",
       "</div>"
      ],
      "text/plain": [
       "               ZC      Eq   70/30  Floor75  Floor75m1  Floor75m5    dd25\n",
       "mean       1.3433  1.9822  1.7635   1.9578     1.6274     1.9672  1.6362\n",
       "std        0.0000  1.0195  0.6105   1.0266     0.4499     1.0288  0.5590\n",
       "p_breach      NaN  0.0338  0.0072      NaN        NaN        NaN     NaN\n",
       "e_short       NaN  0.1125  0.0723      NaN        NaN        NaN     NaN\n",
       "p_reach       NaN     NaN     NaN      NaN        NaN        NaN     NaN\n",
       "e_surplus     NaN     NaN     NaN      NaN        NaN        NaN     NaN"
      ]
     },
     "execution_count": 26,
     "metadata": {},
     "output_type": "execute_result"
    }
   ],
   "source": [
    "cashrate = 0.02\n",
    "monthly_cashreturn = (1+0.02)**(1/12)-1\n",
    "rets_cash = pd.DataFrame(data= monthly_cashreturn, index= rets_eq.index, \n",
    "                        columns=rets_eq.columns)\n",
    "rets_maxdd25 = erk.bt_mix(rets_eq, rets_cash, allocator=erk.drawdown_allocator,\n",
    "                         maxdd=.25)\n",
    "tv_maxdd25 = erk.terminal_values(rets_maxdd25)\n",
    "\n",
    "pd.concat([erk.terminal_stats(rets_zc, name=\"ZC\", floor=0.75),\n",
    "          erk.terminal_stats(rets_eq, name=\"Eq\", floor=0.75),\n",
    "          erk.terminal_stats(rets_7030b, name=\"70/30\",floor=0.75),\n",
    "          erk.terminal_stats(rets_floor75, name=\"Floor75\", floor=0.75),\n",
    "          erk.terminal_stats(rets_floor75m1, name=\"Floor75m1\", floor=0.75),\n",
    "           erk.terminal_stats(rets_floor75m5, name=\"Floor75m5\", floor=0.75),\n",
    "          erk.terminal_stats(rets_maxdd25, name=\"dd25\", floor=0.75)],\n",
    "          axis=1).round(4)\n"
   ]
  },
  {
   "cell_type": "code",
   "execution_count": 27,
   "metadata": {},
   "outputs": [
    {
     "data": {
      "text/plain": [
       "0   -0.198644\n",
       "1   -0.176026\n",
       "2   -0.187505\n",
       "3   -0.149844\n",
       "4   -0.126611\n",
       "Name: Max Drawdown, dtype: float64"
      ]
     },
     "execution_count": 27,
     "metadata": {},
     "output_type": "execute_result"
    }
   ],
   "source": [
    "erk.summary_stats(rets_maxdd25)[\"Max Drawdown\"].head()"
   ]
  },
  {
   "cell_type": "code",
   "execution_count": 28,
   "metadata": {},
   "outputs": [
    {
     "data": {
      "text/plain": [
       "-0.23389347858703052"
      ]
     },
     "execution_count": 28,
     "metadata": {},
     "output_type": "execute_result"
    }
   ],
   "source": [
    "erk.summary_stats(rets_maxdd25)[\"Max Drawdown\"].min()"
   ]
  },
  {
   "cell_type": "code",
   "execution_count": null,
   "metadata": {},
   "outputs": [],
   "source": [
    "#PLot \n",
    "plt.figure(figsize=(12,6))\n",
    "sns.distplot(tbv)"
   ]
  },
  {
   "cell_type": "markdown",
   "metadata": {},
   "source": [
    "# Drawdown constraint with Historical Data"
   ]
  },
  {
   "cell_type": "code",
   "execution_count": 30,
   "metadata": {},
   "outputs": [
    {
     "data": {
      "text/plain": [
       "<AxesSubplot:>"
      ]
     },
     "execution_count": 30,
     "metadata": {},
     "output_type": "execute_result"
    },
    {
     "data": {
      "image/png": "[encoded data removed]",
      "text/plain": [
       "<Figure size 864x432 with 1 Axes>"
      ]
     },
     "metadata": {
      "needs_background": "light"
     },
     "output_type": "display_data"
    }
   ],
   "source": [
    "rets_tmi = erk.get_total_market_index_returns()[\"1990\":]\n",
    "dd_tmi = erk.drawdown(rets_tmi)\n",
    "ax = dd_tmi[\"Wealth\"].plot(figsize=(12,6), ls='-', color='goldenrod')\n",
    "dd_tmi[\"Previous Peak\"].plot(ax=ax, ls=\":\", color=\"goldenrod\")"
   ]
  },
  {
   "cell_type": "code",
   "execution_count": 32,
   "metadata": {},
   "outputs": [
    {
     "data": {
      "text/plain": [
       "<AxesSubplot:>"
      ]
     },
     "execution_count": 32,
     "metadata": {},
     "output_type": "execute_result"
    },
    {
     "data": {
      "image/png": "[encoded data removed]",
      "text/plain": [
       "<Figure size 864x432 with 1 Axes>"
      ]
     },
     "metadata": {
      "needs_background": "light"
     },
     "output_type": "display_data"
    }
   ],
   "source": [
    "cashrate = 0.03\n",
    "monthly_cashreturn =(1+cashrate)**(1/12)-1\n",
    "rets_cash = pd.DataFrame(data = monthly_cashreturn, index= rets_tmi.index,\n",
    "                        columns=[0])\n",
    "rets_maxdd25 = erk.bt_mix(pd.DataFrame(rets_tmi), rets_cash,\n",
    "                         allocator=erk.drawdown_allocator, \n",
    "                         maxdd=.25, m=5)\n",
    "dd_25 = erk.drawdown(rets_maxdd25[0])\n",
    "\n",
    "ax =dd_tmi[\"Wealth\"].plot(figsize=(12, 6), ls='-', color=\"goldenrod\", \n",
    "                          label=\"Market\", legend=True)\n",
    "dd_tmi[\"Previous Peak\"].plot(ax=ax, ls=':', color = \"goldenrod\")\n",
    "\n",
    "dd_25[\"Wealth\"].plot(ax=ax, label=\"MaxDD 25%\", color=\"cornflowerblue\",\n",
    "                   legend=True)\n",
    "dd_25[\"Previous Peak\"].plot(ax=ax, color=\"cornflowerblue\", ls=':')"
   ]
  },
  {
   "cell_type": "code",
   "execution_count": null,
   "metadata": {},
   "outputs": [],
   "source": []
  }
 ],
 "metadata": {
  "kernelspec": {
   "display_name": "Python 3",
   "language": "python",
   "name": "python3"
  },
  "language_info": {
   "codemirror_mode": {
    "name": "ipython",
    "version": 3
   },
   "file_extension": ".py",
   "mimetype": "text/x-python",
   "name": "python",
   "nbconvert_exporter": "python",
   "pygments_lexer": "ipython3",
   "version": "3.8.5"
  }
 },
 "nbformat": 4,
 "nbformat_minor": 4
}
